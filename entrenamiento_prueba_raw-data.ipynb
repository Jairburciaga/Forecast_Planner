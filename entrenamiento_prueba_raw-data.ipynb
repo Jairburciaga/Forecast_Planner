{
 "cells": [
  {
   "cell_type": "markdown",
   "id": "db7c85cd",
   "metadata": {},
   "source": [
    "## Forecast_Planner ##\n",
    "Aplicacion de pronóstico de demanda basado en AutoARIMA de Nixtla\n",
    "- EXPERIMENTO 1, PROBANDO MODELO SOBRE DATOS CRUDOS\n",
    "\n"
   ]
  },
  {
   "cell_type": "markdown",
   "id": "e90c3f4f",
   "metadata": {},
   "source": [
    "ATENCIÓN\n",
    "\n",
    "Este Notebook es solamente para explicar y mostrar el desempeño de AutoARIMA basado en los primeros años de ventas del dataset, después se realiza backtest comparando con el ultimo año de ventas. En la aplicación final la fase de entrenamiento realiza el proceso de entrenamiento con todo el dataset proporcionado sin aportar más data sobre la exactitud del modelo (como es lógico). \n",
    "\n",
    "Esta entrenado sobre una versión modificada del dataset: https://www.kaggle.com/datasets/berkayalan/retail-sales-data/data"
   ]
  },
  {
   "cell_type": "code",
   "execution_count": 1,
   "id": "cba73f83",
   "metadata": {},
   "outputs": [],
   "source": [
    "import pandas as pd\n",
    "\n",
    "\n",
    "df = pd.read_excel('ventas_mensuales.xlsx')"
   ]
  },
  {
   "cell_type": "markdown",
   "id": "d989241c",
   "metadata": {},
   "source": [
    "PASO 1. Importar el modelo"
   ]
  },
  {
   "cell_type": "code",
   "execution_count": 2,
   "id": "02c96779",
   "metadata": {},
   "outputs": [
    {
     "name": "stderr",
     "output_type": "stream",
     "text": [
      "d:\\CursoPython\\Forecast_Planner\\forecast_planner\\Lib\\site-packages\\tqdm\\auto.py:21: TqdmWarning: IProgress not found. Please update jupyter and ipywidgets. See https://ipywidgets.readthedocs.io/en/stable/user_install.html\n",
      "  from .autonotebook import tqdm as notebook_tqdm\n"
     ]
    }
   ],
   "source": [
    "import numpy as np\n",
    "from statsforecast import StatsForecast\n",
    "from statsforecast.models import AutoARIMA\n",
    "import matplotlib.pyplot as plt\n",
    "\n",
    "modelo = StatsForecast(models=[AutoARIMA(season_length=12)], freq='MS', n_jobs=-1)\n"
   ]
  },
  {
   "cell_type": "markdown",
   "id": "43b0a1a1",
   "metadata": {},
   "source": [
    "PASO 2. darle el formato necesario"
   ]
  },
  {
   "cell_type": "code",
   "execution_count": 3,
   "id": "20c8fe21",
   "metadata": {},
   "outputs": [
    {
     "data": {
      "text/html": [
       "<div>\n",
       "<style scoped>\n",
       "    .dataframe tbody tr th:only-of-type {\n",
       "        vertical-align: middle;\n",
       "    }\n",
       "\n",
       "    .dataframe tbody tr th {\n",
       "        vertical-align: top;\n",
       "    }\n",
       "\n",
       "    .dataframe thead th {\n",
       "        text-align: right;\n",
       "    }\n",
       "</style>\n",
       "<table border=\"1\" class=\"dataframe\">\n",
       "  <thead>\n",
       "    <tr style=\"text-align: right;\">\n",
       "      <th></th>\n",
       "      <th>unique_id</th>\n",
       "      <th>ds</th>\n",
       "      <th>y</th>\n",
       "    </tr>\n",
       "  </thead>\n",
       "  <tbody>\n",
       "    <tr>\n",
       "      <th>0</th>\n",
       "      <td>S0001_P0001</td>\n",
       "      <td>2017-02-01</td>\n",
       "      <td>3</td>\n",
       "    </tr>\n",
       "    <tr>\n",
       "      <th>1</th>\n",
       "      <td>S0001_P0001</td>\n",
       "      <td>2017-11-01</td>\n",
       "      <td>0</td>\n",
       "    </tr>\n",
       "    <tr>\n",
       "      <th>2</th>\n",
       "      <td>S0001_P0001</td>\n",
       "      <td>2017-12-01</td>\n",
       "      <td>0</td>\n",
       "    </tr>\n",
       "    <tr>\n",
       "      <th>3</th>\n",
       "      <td>S0001_P0001</td>\n",
       "      <td>2018-01-01</td>\n",
       "      <td>1</td>\n",
       "    </tr>\n",
       "    <tr>\n",
       "      <th>4</th>\n",
       "      <td>S0001_P0001</td>\n",
       "      <td>2018-02-01</td>\n",
       "      <td>1</td>\n",
       "    </tr>\n",
       "  </tbody>\n",
       "</table>\n",
       "</div>"
      ],
      "text/plain": [
       "     unique_id          ds  y\n",
       "0  S0001_P0001  2017-02-01  3\n",
       "1  S0001_P0001  2017-11-01  0\n",
       "2  S0001_P0001  2017-12-01  0\n",
       "3  S0001_P0001  2018-01-01  1\n",
       "4  S0001_P0001  2018-02-01  1"
      ]
     },
     "execution_count": 3,
     "metadata": {},
     "output_type": "execute_result"
    }
   ],
   "source": [
    "dfl = pd.DataFrame()\n",
    "dfl['unique_id'] = df['sucursal']+'_'+df['producto']\n",
    "dfl['ds'] = pd.to_datetime(df['fecha'])\n",
    "dfl['ds'] = df['fecha'].dt.strftime('%Y-%m-%d')\n",
    "dfl['y'] = df['ventas']\n",
    "dfl.head(5)\n",
    "\n"
   ]
  },
  {
   "cell_type": "markdown",
   "id": "e59a4ac1",
   "metadata": {},
   "source": [
    "paso 3. dividir en df de entrenamiento y validacion"
   ]
  },
  {
   "cell_type": "code",
   "execution_count": 4,
   "id": "bf0860a4",
   "metadata": {},
   "outputs": [
    {
     "data": {
      "text/html": [
       "<div>\n",
       "<style scoped>\n",
       "    .dataframe tbody tr th:only-of-type {\n",
       "        vertical-align: middle;\n",
       "    }\n",
       "\n",
       "    .dataframe tbody tr th {\n",
       "        vertical-align: top;\n",
       "    }\n",
       "\n",
       "    .dataframe thead th {\n",
       "        text-align: right;\n",
       "    }\n",
       "</style>\n",
       "<table border=\"1\" class=\"dataframe\">\n",
       "  <thead>\n",
       "    <tr style=\"text-align: right;\">\n",
       "      <th></th>\n",
       "      <th>unique_id</th>\n",
       "      <th>ds</th>\n",
       "      <th>y</th>\n",
       "    </tr>\n",
       "  </thead>\n",
       "  <tbody>\n",
       "    <tr>\n",
       "      <th>15</th>\n",
       "      <td>S0001_P0001</td>\n",
       "      <td>2019-01-01</td>\n",
       "      <td>4</td>\n",
       "    </tr>\n",
       "    <tr>\n",
       "      <th>16</th>\n",
       "      <td>S0001_P0001</td>\n",
       "      <td>2019-02-01</td>\n",
       "      <td>3</td>\n",
       "    </tr>\n",
       "    <tr>\n",
       "      <th>17</th>\n",
       "      <td>S0001_P0001</td>\n",
       "      <td>2019-03-01</td>\n",
       "      <td>4</td>\n",
       "    </tr>\n",
       "    <tr>\n",
       "      <th>18</th>\n",
       "      <td>S0001_P0001</td>\n",
       "      <td>2019-04-01</td>\n",
       "      <td>3</td>\n",
       "    </tr>\n",
       "    <tr>\n",
       "      <th>19</th>\n",
       "      <td>S0001_P0001</td>\n",
       "      <td>2019-05-01</td>\n",
       "      <td>9</td>\n",
       "    </tr>\n",
       "  </tbody>\n",
       "</table>\n",
       "</div>"
      ],
      "text/plain": [
       "      unique_id          ds  y\n",
       "15  S0001_P0001  2019-01-01  4\n",
       "16  S0001_P0001  2019-02-01  3\n",
       "17  S0001_P0001  2019-03-01  4\n",
       "18  S0001_P0001  2019-04-01  3\n",
       "19  S0001_P0001  2019-05-01  9"
      ]
     },
     "execution_count": 4,
     "metadata": {},
     "output_type": "execute_result"
    }
   ],
   "source": [
    "df_train = dfl[dfl['ds'] < '2019-01-01']\n",
    "df_val = dfl[dfl['ds'] >= '2019-01-01']\n",
    "df_val.head(5)"
   ]
  },
  {
   "cell_type": "code",
   "execution_count": 14,
   "id": "1736f5f1",
   "metadata": {},
   "outputs": [
    {
     "data": {
      "text/plain": [
       "<Axes: title={'center': 'serie S0001_P0015'}, xlabel='Fecha', ylabel='Ventas'>"
      ]
     },
     "execution_count": 14,
     "metadata": {},
     "output_type": "execute_result"
    },
    {
     "data": {
      "image/png": "[encoded data removed]",
      "text/plain": [
       "<Figure size 1000x400 with 1 Axes>"
      ]
     },
     "metadata": {},
     "output_type": "display_data"
    }
   ],
   "source": [
    "df_train[df_train['unique_id'] == 'S0001_P0015'].plot(\n",
    "    x='ds', y='y',\n",
    "    marker = 'o', figsize=(10,4),\n",
    "    title=\"serie S0001_P0015\",\n",
    "    xlabel='Fecha', ylabel='Ventas'\n",
    ")"
   ]
  },
  {
   "cell_type": "markdown",
   "id": "a3aa5566",
   "metadata": {},
   "source": [
    "Entrenar al modelo"
   ]
  },
  {
   "cell_type": "code",
   "execution_count": 6,
   "id": "4328c8d9",
   "metadata": {},
   "outputs": [
    {
     "data": {
      "text/plain": [
       "StatsForecast(models=[AutoARIMA])"
      ]
     },
     "execution_count": 6,
     "metadata": {},
     "output_type": "execute_result"
    }
   ],
   "source": [
    "modelo.fit(df=df_train)"
   ]
  },
  {
   "cell_type": "code",
   "execution_count": 7,
   "id": "8a8018fa",
   "metadata": {},
   "outputs": [],
   "source": [
    "df_forecast = modelo.predict(h=12)"
   ]
  },
  {
   "cell_type": "code",
   "execution_count": 8,
   "id": "39724e9c",
   "metadata": {},
   "outputs": [
    {
     "name": "stdout",
     "output_type": "stream",
     "text": [
      "(431922, 3)\n",
      "28750\n"
     ]
    },
    {
     "data": {
      "text/html": [
       "<div>\n",
       "<style scoped>\n",
       "    .dataframe tbody tr th:only-of-type {\n",
       "        vertical-align: middle;\n",
       "    }\n",
       "\n",
       "    .dataframe tbody tr th {\n",
       "        vertical-align: top;\n",
       "    }\n",
       "\n",
       "    .dataframe thead th {\n",
       "        text-align: right;\n",
       "    }\n",
       "</style>\n",
       "<table border=\"1\" class=\"dataframe\">\n",
       "  <thead>\n",
       "    <tr style=\"text-align: right;\">\n",
       "      <th></th>\n",
       "      <th>unique_id</th>\n",
       "      <th>ds</th>\n",
       "      <th>AutoARIMA</th>\n",
       "    </tr>\n",
       "  </thead>\n",
       "  <tbody>\n",
       "    <tr>\n",
       "      <th>0</th>\n",
       "      <td>S0001_P0001</td>\n",
       "      <td>2019-01-01</td>\n",
       "      <td>6.4</td>\n",
       "    </tr>\n",
       "    <tr>\n",
       "      <th>1</th>\n",
       "      <td>S0001_P0001</td>\n",
       "      <td>2019-02-01</td>\n",
       "      <td>6.4</td>\n",
       "    </tr>\n",
       "    <tr>\n",
       "      <th>2</th>\n",
       "      <td>S0001_P0001</td>\n",
       "      <td>2019-03-01</td>\n",
       "      <td>6.4</td>\n",
       "    </tr>\n",
       "    <tr>\n",
       "      <th>3</th>\n",
       "      <td>S0001_P0001</td>\n",
       "      <td>2019-04-01</td>\n",
       "      <td>6.4</td>\n",
       "    </tr>\n",
       "    <tr>\n",
       "      <th>4</th>\n",
       "      <td>S0001_P0001</td>\n",
       "      <td>2019-05-01</td>\n",
       "      <td>6.4</td>\n",
       "    </tr>\n",
       "  </tbody>\n",
       "</table>\n",
       "</div>"
      ],
      "text/plain": [
       "     unique_id         ds  AutoARIMA\n",
       "0  S0001_P0001 2019-01-01        6.4\n",
       "1  S0001_P0001 2019-02-01        6.4\n",
       "2  S0001_P0001 2019-03-01        6.4\n",
       "3  S0001_P0001 2019-04-01        6.4\n",
       "4  S0001_P0001 2019-05-01        6.4"
      ]
     },
     "execution_count": 8,
     "metadata": {},
     "output_type": "execute_result"
    }
   ],
   "source": [
    "print(df_train.shape)\n",
    "print(df_train['unique_id'].nunique())\n",
    "df_forecast.head(5)"
   ]
  },
  {
   "cell_type": "markdown",
   "id": "ac48c2e0",
   "metadata": {},
   "source": [
    "Hacer el backtesing"
   ]
  },
  {
   "cell_type": "code",
   "execution_count": 9,
   "id": "8dbcbbcb",
   "metadata": {},
   "outputs": [
    {
     "name": "stderr",
     "output_type": "stream",
     "text": [
      "C:\\Users\\Martin\\AppData\\Local\\Temp\\ipykernel_9612\\649399362.py:1: SettingWithCopyWarning: \n",
      "A value is trying to be set on a copy of a slice from a DataFrame.\n",
      "Try using .loc[row_indexer,col_indexer] = value instead\n",
      "\n",
      "See the caveats in the documentation: https://pandas.pydata.org/pandas-docs/stable/user_guide/indexing.html#returning-a-view-versus-a-copy\n",
      "  df_val['ds'] = pd.to_datetime(df_val['ds'])\n"
     ]
    },
    {
     "data": {
      "text/html": [
       "<div>\n",
       "<style scoped>\n",
       "    .dataframe tbody tr th:only-of-type {\n",
       "        vertical-align: middle;\n",
       "    }\n",
       "\n",
       "    .dataframe tbody tr th {\n",
       "        vertical-align: top;\n",
       "    }\n",
       "\n",
       "    .dataframe thead th {\n",
       "        text-align: right;\n",
       "    }\n",
       "</style>\n",
       "<table border=\"1\" class=\"dataframe\">\n",
       "  <thead>\n",
       "    <tr style=\"text-align: right;\">\n",
       "      <th></th>\n",
       "      <th>unique_id</th>\n",
       "      <th>ds</th>\n",
       "      <th>y</th>\n",
       "      <th>AutoARIMA</th>\n",
       "    </tr>\n",
       "  </thead>\n",
       "  <tbody>\n",
       "    <tr>\n",
       "      <th>0</th>\n",
       "      <td>S0001_P0001</td>\n",
       "      <td>2019-01-01</td>\n",
       "      <td>4</td>\n",
       "      <td>6.4</td>\n",
       "    </tr>\n",
       "    <tr>\n",
       "      <th>1</th>\n",
       "      <td>S0001_P0001</td>\n",
       "      <td>2019-02-01</td>\n",
       "      <td>3</td>\n",
       "      <td>6.4</td>\n",
       "    </tr>\n",
       "    <tr>\n",
       "      <th>2</th>\n",
       "      <td>S0001_P0001</td>\n",
       "      <td>2019-03-01</td>\n",
       "      <td>4</td>\n",
       "      <td>6.4</td>\n",
       "    </tr>\n",
       "    <tr>\n",
       "      <th>3</th>\n",
       "      <td>S0001_P0001</td>\n",
       "      <td>2019-04-01</td>\n",
       "      <td>3</td>\n",
       "      <td>6.4</td>\n",
       "    </tr>\n",
       "    <tr>\n",
       "      <th>4</th>\n",
       "      <td>S0001_P0001</td>\n",
       "      <td>2019-05-01</td>\n",
       "      <td>9</td>\n",
       "      <td>6.4</td>\n",
       "    </tr>\n",
       "  </tbody>\n",
       "</table>\n",
       "</div>"
      ],
      "text/plain": [
       "     unique_id         ds  y  AutoARIMA\n",
       "0  S0001_P0001 2019-01-01  4        6.4\n",
       "1  S0001_P0001 2019-02-01  3        6.4\n",
       "2  S0001_P0001 2019-03-01  4        6.4\n",
       "3  S0001_P0001 2019-04-01  3        6.4\n",
       "4  S0001_P0001 2019-05-01  9        6.4"
      ]
     },
     "execution_count": 9,
     "metadata": {},
     "output_type": "execute_result"
    }
   ],
   "source": [
    "df_val['ds'] = pd.to_datetime(df_val['ds'])\n",
    "df_forecast['ds'] = pd.to_datetime(df_forecast['ds'])\n",
    "df_bt = pd.merge(df_val, df_forecast, on = ['unique_id', 'ds'])\n",
    "df_bt.head(5)"
   ]
  },
  {
   "cell_type": "markdown",
   "id": "e58abaaa",
   "metadata": {},
   "source": [
    "MAE y RMSE (hay ceros en y)"
   ]
  },
  {
   "cell_type": "code",
   "execution_count": 12,
   "id": "d1f7a0f4",
   "metadata": {},
   "outputs": [
    {
     "name": "stdout",
     "output_type": "stream",
     "text": [
      "MAE: 8.151527404785156\n",
      "RMSE: 25.366438534452474\n"
     ]
    }
   ],
   "source": [
    "from sklearn.metrics import mean_absolute_error\n",
    "mae = mean_absolute_error(df_bt['y'], df_bt['AutoARIMA'])\n",
    "rmse = np.sqrt(((df_bt['y'] - df_bt['AutoARIMA'])**2).mean())\n",
    "print(f\"MAE: {mae}\\nRMSE: {rmse}\")"
   ]
  },
  {
   "cell_type": "code",
   "execution_count": 13,
   "id": "081d79f2",
   "metadata": {},
   "outputs": [
    {
     "data": {
      "text/plain": [
       "np.float64(9.703194263676837)"
      ]
     },
     "execution_count": 13,
     "metadata": {},
     "output_type": "execute_result"
    }
   ],
   "source": [
    "df_bt['y'].mean()"
   ]
  },
  {
   "cell_type": "code",
   "execution_count": 17,
   "id": "822e9ea5",
   "metadata": {},
   "outputs": [],
   "source": [
    "df_bt.to_excel('df_validacion.xlsx', index=False)"
   ]
  },
  {
   "cell_type": "markdown",
   "id": "615c9511",
   "metadata": {},
   "source": [
    "### CONCLUSIONES.\n",
    "\n",
    "\n",
    "El MAE y RMSE muestran un rendimiento muy pobre del modelo. Se equivoca casi tanto como la propia venta promedio. El RMSE es aun peor.\n",
    "Parece que no es recomendable usarlo, pero hemos de recordar que esto es raw data, y solo son dos años (24 registros), para el entrenamiento de cada serie. Intentaremos validar con una data procesada por nuestro algoritmo de limpieza y veremos como afecta al rendimiento.\n",
    "\n",
    "Guardaremos dataframe de validacion para compararlo con el siguiente experimento en condiciones justas."
   ]
  }
 ],
 "metadata": {
  "kernelspec": {
   "display_name": "forecast_planner",
   "language": "python",
   "name": "python3"
  },
  "language_info": {
   "codemirror_mode": {
    "name": "ipython",
    "version": 3
   },
   "file_extension": ".py",
   "mimetype": "text/x-python",
   "name": "python",
   "nbconvert_exporter": "python",
   "pygments_lexer": "ipython3",
   "version": "3.11.9"
  }
 },
 "nbformat": 4,
 "nbformat_minor": 5
}
