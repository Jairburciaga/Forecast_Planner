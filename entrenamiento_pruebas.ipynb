{
 "cells": [
  {
   "cell_type": "markdown",
   "id": "db7c85cd",
   "metadata": {},
   "source": [
    "## Forecast_Planner ##\n",
    "Aplicacion de pronóstico de demanda basado en Prophet de Meta\n",
    "\n"
   ]
  },
  {
   "cell_type": "markdown",
   "id": "9262ce03",
   "metadata": {},
   "source": [
    "¿Qué hace la aplicación?\n",
    "\n",
    "Básicamente importa un dataset CSV o Excel directamente de tu almacenamiento, lo valida, lo limpia y genera pronósticos de venta para los siguientes periódos."
   ]
  },
  {
   "cell_type": "markdown",
   "id": "e90c3f4f",
   "metadata": {},
   "source": [
    "ATENCIÓN\n",
    "\n",
    "Este Notebook es solamente para explicar y mostrar el desempeño de Prophet basado en los primeros años de ventas del dataset, después se realiza backend comparando con el ultimo año de ventas. En la aplicación final la fase de entrenamiento realiza el proceso de entrenamiento con todo el dataset proporcionado sin aportar más data sobre la exactitud del modelo (como es lógico). \n",
    "\n",
    "Esta entrenado sobre una versión modificada del dataset: https://www.kaggle.com/datasets/berkayalan/retail-sales-data/data"
   ]
  },
  {
   "cell_type": "markdown",
   "id": "d989241c",
   "metadata": {},
   "source": [
    "PASO 1. Importar el modelo"
   ]
  },
  {
   "cell_type": "code",
   "execution_count": 13,
   "id": "02c96779",
   "metadata": {},
   "outputs": [],
   "source": [
    "from prophet import Prophet\n",
    "import pandas as pd\n",
    "\n",
    "modelo = Prophet()\n",
    "# print(modelo)"
   ]
  },
  {
   "cell_type": "markdown",
   "id": "43b0a1a1",
   "metadata": {},
   "source": [
    "PASO 2. Importar el dataset"
   ]
  },
  {
   "cell_type": "code",
   "execution_count": 12,
   "id": "20c8fe21",
   "metadata": {},
   "outputs": [],
   "source": [
    "dataset = pd.read_excel(\"ventas_mensuales.xlsx\")\n",
    "\n",
    "\n"
   ]
  }
 ],
 "metadata": {
  "kernelspec": {
   "display_name": "Python 3",
   "language": "python",
   "name": "python3"
  },
  "language_info": {
   "codemirror_mode": {
    "name": "ipython",
    "version": 3
   },
   "file_extension": ".py",
   "mimetype": "text/x-python",
   "name": "python",
   "nbconvert_exporter": "python",
   "pygments_lexer": "ipython3",
   "version": "3.11.9"
  }
 },
 "nbformat": 4,
 "nbformat_minor": 5
}
